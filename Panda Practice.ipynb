{
 "cells": [
  {
   "cell_type": "markdown",
   "metadata": {},
   "source": [
    "# Important \n",
    "Both NumPy and pandas are often used together, as the pandas library relies heavily on the NumPy array for the implementation of pandas data objects and shares many of its features. ... Both libraries belong to what is known as the SciPy stack, a set of Python libraries used for scientific computing\n",
    "\n",
    "NumPy arrays have one dtype for the entire array, while pandas DataFrames have one dtype per column"
   ]
  },
  {
   "cell_type": "code",
   "execution_count": 1,
   "metadata": {},
   "outputs": [
    {
     "name": "stdout",
     "output_type": "stream",
     "text": [
      "0.20.3\n"
     ]
    }
   ],
   "source": [
    "import pandas as pd\n",
    "import numpy as np\n",
    "print(pd.__version__)"
   ]
  },
  {
   "cell_type": "markdown",
   "metadata": {
    "collapsed": true
   },
   "source": [
    "# Object Creation"
   ]
  },
  {
   "cell_type": "code",
   "execution_count": 2,
   "metadata": {},
   "outputs": [
    {
     "name": "stdout",
     "output_type": "stream",
     "text": [
      "   Age   Names Qualification\n",
      "0   22  Khizar          BSCS\n",
      "1   24   Habib        Matric\n",
      "2   26  Haider           MBA\n",
      "3   29    Asad            BA\n",
      "                   A         B         C         D\n",
      "2019-08-01 -0.654550  0.444371  1.086405 -0.024282\n",
      "2019-08-02  0.455973  0.911007  0.115234 -0.993837\n",
      "2019-08-03  1.174210 -0.140307 -0.205985 -1.228975\n",
      "2019-08-04 -0.254002 -0.682141 -0.827359 -0.140697\n",
      "2019-08-05  1.590361 -0.205778  1.398295 -0.661716\n",
      "2019-08-06  0.494071  0.351742 -0.629832  0.765848\n",
      "2019-08-07 -0.668248  1.142417 -0.215203 -0.918004\n",
      "2019-08-08  0.617792 -0.784268  0.748646  1.937332\n",
      "2019-08-09 -0.224282  1.983673 -0.152325  0.283291\n",
      "2019-08-10  0.880325 -0.032163 -0.405770  0.183929\n",
      "                   A         B         C         D         E\n",
      "2019-08-01 -0.654550  0.444371  1.086405 -0.024282  1.819624\n",
      "2019-08-02  0.455973  0.911007  0.115234 -0.993837 -0.577998\n",
      "2019-08-03  1.174210 -0.140307 -0.205985 -1.228975 -0.095216\n",
      "2019-08-04 -0.254002 -0.682141 -0.827359 -0.140697 -1.321951\n",
      "2019-08-05  1.590361 -0.205778  1.398295 -0.661716  1.074368\n",
      "2019-08-06  0.494071  0.351742 -0.629832  0.765848  0.547917\n",
      "2019-08-07 -0.668248  1.142417 -0.215203 -0.918004 -0.761320\n",
      "2019-08-08  0.617792 -0.784268  0.748646  1.937332  1.375879\n",
      "2019-08-09 -0.224282  1.983673 -0.152325  0.283291 -1.820572\n",
      "2019-08-10  0.880325 -0.032163 -0.405770  0.183929 -0.002751\n"
     ]
    }
   ],
   "source": [
    "# pd.Series(pthon or numpy data structure), create one-d array\n",
    "\n",
    "# dates = pd.date_range('01-01-2019','01-10-2019')\n",
    "# index = pd.DatetimeIndex(dates)\n",
    "\n",
    "s = pd.Series(np.arange(10),index = [5,6,7,8,9,10,11,12,13,14],)\n",
    "#print(df)\n",
    "dates = pd.date_range('20190801',periods = 10)\n",
    "#print(dates)\n",
    "                        #10 rows and 4 columns\n",
    "df = pd.DataFrame(np.random.randn(10, 4), index=dates, columns=list('ABCD'))\n",
    "df\n",
    "# Create data frame using passing dict\n",
    "# keys are the column names and values are the data of that columns\n",
    "d = {'Names':['Khizar','Habib','Haider','Asad'],'Age':[22,24,26,29],'Qualification':['BSCS','Matric','MBA','BA']}\n",
    "df2 = pd.DataFrame(d)\n",
    "print(df2)\n",
    "\n",
    "# df2 = pd.DataFrame({'A': 1.,\n",
    "#                     'B': pd.Timestamp('20130102'),\n",
    "#                     'C': pd.Series(1, index=list(range(4)), dtype='float32'),\n",
    "#                         'D': np.array([3] * 4, dtype='int32'),\n",
    "#                         'E': pd.Categorical([\"test\", \"train\", \"test\", \"train\"]),\n",
    "#                         'F': 'foo'})\n",
    "\n",
    "# Accessing columns from Data Frame\n",
    "# print(df2.B)\n",
    "# print(df2.abs)\n",
    "# print(df2.C)\n",
    "# print(df2['D'])\n",
    "\n",
    "# creating new columns\n",
    "print(df)\n",
    "df['E'] = np.random.randn(10) # adding a new col\n",
    "print(df)"
   ]
  },
  {
   "cell_type": "markdown",
   "metadata": {
    "collapsed": true
   },
   "source": [
    "# View Data, Sorting & Missing Values, Methods"
   ]
  },
  {
   "cell_type": "code",
   "execution_count": 3,
   "metadata": {},
   "outputs": [
    {
     "name": "stdout",
     "output_type": "stream",
     "text": [
      "   Age   Names Qualification\n",
      "0   22  Khizar          BSCS\n",
      "1   24   Habib        Matric\n",
      "2   26  Haider           MBA\n",
      "3   29    Asad            BA\n",
      "   Age   Names Qualification\n",
      "0   22  Khizar          BSCS\n",
      "1   24   Habib        Matric\n",
      "(10, 5)\n",
      "   Age   Names Qualification\n",
      "2   26  Haider           MBA\n",
      "3   29    Asad            BA\n",
      "DatetimeIndex(['2019-08-01', '2019-08-02', '2019-08-03', '2019-08-04',\n",
      "               '2019-08-05', '2019-08-06', '2019-08-07', '2019-08-08',\n",
      "               '2019-08-09', '2019-08-10'],\n",
      "              dtype='datetime64[ns]', freq='D')\n",
      "Index(['A', 'B', 'C', 'D', 'E'], dtype='object')\n",
      "               A          B          C          D          E\n",
      "count  10.000000  10.000000  10.000000  10.000000  10.000000\n",
      "mean    0.341165   0.298855   0.091211  -0.079711   0.023798\n",
      "std     0.770465   0.859038   0.744152   0.953904   1.184984\n",
      "min    -0.668248  -0.784268  -0.827359  -1.228975  -1.820572\n",
      "25%    -0.246572  -0.189410  -0.358128  -0.853932  -0.715489\n",
      "50%     0.475022   0.159790  -0.179155  -0.082490  -0.048984\n",
      "75%     0.814692   0.794348   0.590293   0.258450   0.942755\n",
      "max     1.590361   1.983673   1.398295   1.937332   1.819624\n",
      "<class 'pandas.core.frame.DataFrame'>\n",
      "DatetimeIndex: 10 entries, 2019-08-01 to 2019-08-10\n",
      "Freq: D\n",
      "Data columns (total 5 columns):\n",
      "A    10 non-null float64\n",
      "B    10 non-null float64\n",
      "C    10 non-null float64\n",
      "D    10 non-null float64\n",
      "E    10 non-null float64\n",
      "dtypes: float64(5)\n",
      "memory usage: 480.0 bytes\n",
      "None\n",
      "   2019-08-01  2019-08-02  2019-08-03  2019-08-04  2019-08-05  2019-08-06  \\\n",
      "A   -0.654550    0.455973    1.174210   -0.254002    1.590361    0.494071   \n",
      "B    0.444371    0.911007   -0.140307   -0.682141   -0.205778    0.351742   \n",
      "C    1.086405    0.115234   -0.205985   -0.827359    1.398295   -0.629832   \n",
      "D   -0.024282   -0.993837   -1.228975   -0.140697   -0.661716    0.765848   \n",
      "E    1.819624   -0.577998   -0.095216   -1.321951    1.074368    0.547917   \n",
      "\n",
      "   2019-08-07  2019-08-08  2019-08-09  2019-08-10  \n",
      "A   -0.668248    0.617792   -0.224282    0.880325  \n",
      "B    1.142417   -0.784268    1.983673   -0.032163  \n",
      "C   -0.215203    0.748646   -0.152325   -0.405770  \n",
      "D   -0.918004    1.937332    0.283291    0.183929  \n",
      "E   -0.761320    1.375879   -1.820572   -0.002751  \n",
      "                   A         B         C         D         E\n",
      "2019-08-10  0.880325 -0.032163 -0.405770  0.183929 -0.002751\n",
      "2019-08-09 -0.224282  1.983673 -0.152325  0.283291 -1.820572\n",
      "2019-08-08  0.617792 -0.784268  0.748646  1.937332  1.375879\n",
      "2019-08-07 -0.668248  1.142417 -0.215203 -0.918004 -0.761320\n",
      "2019-08-06  0.494071  0.351742 -0.629832  0.765848  0.547917\n",
      "2019-08-05  1.590361 -0.205778  1.398295 -0.661716  1.074368\n",
      "2019-08-04 -0.254002 -0.682141 -0.827359 -0.140697 -1.321951\n",
      "2019-08-03  1.174210 -0.140307 -0.205985 -1.228975 -0.095216\n",
      "2019-08-02  0.455973  0.911007  0.115234 -0.993837 -0.577998\n",
      "2019-08-01 -0.654550  0.444371  1.086405 -0.024282  1.819624\n",
      "                   A         B         C         D         E\n",
      "2019-08-08  0.617792 -0.784268  0.748646  1.937332  1.375879\n",
      "2019-08-04 -0.254002 -0.682141 -0.827359 -0.140697 -1.321951\n",
      "2019-08-05  1.590361 -0.205778  1.398295 -0.661716  1.074368\n",
      "2019-08-03  1.174210 -0.140307 -0.205985 -1.228975 -0.095216\n",
      "2019-08-10  0.880325 -0.032163 -0.405770  0.183929 -0.002751\n",
      "2019-08-06  0.494071  0.351742 -0.629832  0.765848  0.547917\n",
      "2019-08-01 -0.654550  0.444371  1.086405 -0.024282  1.819624\n",
      "2019-08-02  0.455973  0.911007  0.115234 -0.993837 -0.577998\n",
      "2019-08-07 -0.668248  1.142417 -0.215203 -0.918004 -0.761320\n",
      "2019-08-09 -0.224282  1.983673 -0.152325  0.283291 -1.820572\n",
      "         A   B   C   D   E\n",
      "first  NaN NaN NaN NaN NaN\n",
      "dues   NaN NaN NaN NaN NaN\n",
      "trois  NaN NaN NaN NaN NaN\n",
      "fourth NaN NaN NaN NaN NaN\n",
      "fifth  NaN NaN NaN NaN NaN\n"
     ]
    }
   ],
   "source": [
    "# VIEW DATA\n",
    "print(df2)\n",
    "\n",
    "print(df2.head(2))\n",
    "print(df.shape)\n",
    "print(df2.tail(2))\n",
    "\n",
    "print(df.index)# print the index\n",
    "print(df.columns) # print the columns\n",
    "\n",
    "print(df.describe())\n",
    "print(df.info())\n",
    "print(df.T) # transpose of data fram, change the columns to index and vice versa\n",
    "\n",
    "#Sorting\n",
    "\n",
    "# axis 0 mean, column wise and axis 1 mean row wise\n",
    "print(df.sort_index(axis=0, ascending=False)) # ascending = false mean columns reverse order\n",
    "print(df.sort_values(by='B', axis = 0, ascending = True))\n",
    "#df1.to_numpy() # version not compatible\n",
    "\n",
    "#MISSING VALUES\n",
    "\n",
    "#Reindexing allows you to change/add/delete the index on a specified axis. This returns a copy of the data.df\n",
    "new_index = list(range(11))\n",
    "print(df.reindex([\"first\", \"dues\", \"trois\", \"fourth\", \"fifth\"]))\n"
   ]
  },
  {
   "cell_type": "markdown",
   "metadata": {},
   "source": [
    "# Data Slicing and indexing\n"
   ]
  },
  {
   "cell_type": "code",
   "execution_count": 4,
   "metadata": {},
   "outputs": [
    {
     "name": "stdout",
     "output_type": "stream",
     "text": [
      "DatetimeIndex(['2019-08-01', '2019-08-02', '2019-08-03', '2019-08-04',\n",
      "               '2019-08-05', '2019-08-06', '2019-08-07', '2019-08-08',\n",
      "               '2019-08-09', '2019-08-10'],\n",
      "              dtype='datetime64[ns]', freq='D') Index(['A', 'B', 'C', 'D', 'E'], dtype='object')\n",
      "-0.654550139758\n",
      "                   A         B\n",
      "2019-08-01 -0.654550  0.444371\n",
      "2019-08-02  0.455973  0.911007\n",
      "2019-08-03  1.174210 -0.140307\n",
      "2019-08-04 -0.254002 -0.682141\n",
      "2019-08-05  1.590361 -0.205778\n",
      "2019-08-06  0.494071  0.351742\n",
      "2019-08-07 -0.668248  1.142417\n",
      "2019-08-08  0.617792 -0.784268\n",
      "2019-08-09 -0.224282  1.983673\n",
      "2019-08-10  0.880325 -0.032163\n",
      "A   -0.654550\n",
      "B    0.444371\n",
      "C    1.086405\n",
      "D   -0.024282\n",
      "E    1.819624\n",
      "Name: 2019-08-01 00:00:00, dtype: float64\n",
      "A   -0.654550\n",
      "B    0.444371\n",
      "C    1.086405\n",
      "D   -0.024282\n",
      "E    1.819624\n",
      "Name: 2019-08-01 00:00:00, dtype: float64\n",
      "-0.654550139758\n",
      "-0.654550139758\n",
      "                   A         B         C         D         E\n",
      "2019-08-01 -0.654550  0.444371  1.086405 -0.024282  1.819624\n",
      "2019-08-02  0.455973  0.911007  0.115234 -0.993837 -0.577998\n",
      "2019-08-03  1.174210 -0.140307 -0.205985 -1.228975 -0.095216\n",
      "2019-08-04 -0.254002 -0.682141 -0.827359 -0.140697 -1.321951\n",
      "2019-08-05  1.590361 -0.205778  1.398295 -0.661716  1.074368\n",
      "2019-08-06  0.494071  0.351742 -0.629832  0.765848  0.547917\n",
      "2019-08-07 -0.668248  1.142417 -0.215203 -0.918004 -0.761320\n",
      "2019-08-08  0.617792 -0.784268  0.748646  1.937332  1.375879\n",
      "2019-08-09 -0.224282  1.983673 -0.152325  0.283291 -1.820572\n",
      "2019-08-10  0.880325 -0.032163 -0.405770  0.183929 -0.002751\n",
      "                   A         B         C         D\n",
      "2019-08-01 -0.654550  0.444371  1.086405 -0.024282\n",
      "2019-08-02  0.455973  0.911007  0.115234 -0.993837\n",
      "2019-08-03  1.174210 -0.140307 -0.205985 -1.228975\n",
      "2019-08-04 -0.254002 -0.682141 -0.827359 -0.140697\n",
      "2019-08-05  1.590361 -0.205778  1.398295 -0.661716\n",
      "2019-08-06  0.494071  0.351742 -0.629832  0.765848\n",
      "2019-08-07 -0.668248  1.142417 -0.215203 -0.918004\n",
      "2019-08-08  0.617792 -0.784268  0.748646  1.937332\n",
      "2019-08-09 -0.224282  1.983673 -0.152325  0.283291\n",
      "2019-08-10  0.880325 -0.032163 -0.405770  0.183929\n",
      "                   A         C\n",
      "2019-08-02  0.455973  0.115234\n",
      "2019-08-03  1.174210 -0.205985\n",
      "2019-08-05  1.590361  1.398295\n",
      "-0.140306858996\n"
     ]
    }
   ],
   "source": [
    "# print(df['A'])\n",
    "# print(df[0:3]) # same\n",
    "# print(df.head(3)) #same\n",
    "\n",
    "# Slicing\n",
    "# df.loc[rows,cols]\n",
    "# df.loc[rowName,colName]\n",
    "rows = df.index\n",
    "cols = df.columns\n",
    "print(rows,cols)\n",
    "value1 = df.loc[rows[0],cols[0]] # first row and first col\n",
    "print(value1)\n",
    "values = df.loc[:,[cols[0],cols[1]]] # all rows of first column and second column\n",
    "print(values)\n",
    "\n",
    "# iloc[Row_index,Col_index]\n",
    "# return elements with indices\n",
    "print(df.loc[rows[0]]) # same\n",
    "print(df.iloc[0]) # same\n",
    "\n",
    "print(df.loc[rows[0],cols[0]]) # same\n",
    "print(df.iloc[0,0]) # same\n",
    "\n",
    "print(df.iloc[:,:]) # all rows and all cols\n",
    "print(df.iloc[:,0:-1]) # all rows but all cols - 1\n",
    "\n",
    "print(df.iloc[[1, 2, 4], [0, 2]]) # 1,2,4 rows and 0,2 cols\n",
    "\n",
    "#iat[col_index,rwo_index]\n",
    "# return elements without index\n",
    "print(df.iat[2,1]) #second col and 1st row\n",
    "\n",
    "\n",
    "\n"
   ]
  },
  {
   "cell_type": "markdown",
   "metadata": {},
   "source": [
    "# Conditional Operator in pandas"
   ]
  },
  {
   "cell_type": "code",
   "execution_count": 77,
   "metadata": {},
   "outputs": [
    {
     "name": "stdout",
     "output_type": "stream",
     "text": [
      "                   A         B         C         D         E\n",
      "2019-08-02  0.455973  0.911007  0.115234 -0.993837 -0.577998\n",
      "2019-08-03  1.174210 -0.140307 -0.205985 -1.228975 -0.095216\n",
      "2019-08-05  1.590361 -0.205778  1.398295 -0.661716  1.074368\n",
      "2019-08-06  0.494071  0.351742 -0.629832  0.765848  0.547917\n",
      "2019-08-08  0.617792 -0.784268  0.748646  1.937332  1.375879\n",
      "2019-08-10  0.880325 -0.032163 -0.405770  0.183929 -0.002751\n",
      "                   A         B         C         D         E\n",
      "2019-08-03  1.174210 -0.140307 -0.205985 -1.228975 -0.095216\n",
      "2019-08-04 -0.254002 -0.682141 -0.827359 -0.140697 -1.321951\n",
      "2019-08-05  1.590361 -0.205778  1.398295 -0.661716  1.074368\n",
      "2019-08-08  0.617792 -0.784268  0.748646  1.937332  1.375879\n",
      "2019-08-10  0.880325 -0.032163 -0.405770  0.183929 -0.002751\n",
      "                   A         B         C         D         E\n",
      "2019-08-01       NaN  0.444371  1.086405       NaN  1.819624\n",
      "2019-08-02  0.455973  0.911007  0.115234       NaN       NaN\n",
      "2019-08-03  1.174210       NaN       NaN       NaN       NaN\n",
      "2019-08-04       NaN       NaN       NaN       NaN       NaN\n",
      "2019-08-05  1.590361       NaN  1.398295       NaN  1.074368\n",
      "2019-08-06  0.494071  0.351742       NaN  0.765848  0.547917\n",
      "2019-08-07       NaN  1.142417       NaN       NaN       NaN\n",
      "2019-08-08  0.617792       NaN  0.748646  1.937332  1.375879\n",
      "2019-08-09       NaN  1.983673       NaN  0.283291       NaN\n",
      "2019-08-10  0.880325       NaN       NaN  0.183929       NaN\n",
      "                   A         B         C         D         E\n",
      "2019-08-01       NaN  0.444371  1.086405       NaN  1.819624\n",
      "2019-08-02  0.455973  0.911007  0.115234       NaN       NaN\n",
      "2019-08-03  1.174210       NaN       NaN       NaN       NaN\n",
      "2019-08-04       NaN       NaN       NaN       NaN       NaN\n",
      "2019-08-05  1.590361       NaN  1.398295       NaN  1.074368\n",
      "2019-08-06  0.494071  0.351742       NaN  0.765848  0.547917\n",
      "2019-08-07       NaN  1.142417       NaN       NaN       NaN\n",
      "2019-08-08  0.617792       NaN  0.748646  1.937332  1.375879\n",
      "2019-08-09       NaN  1.983673       NaN  0.283291       NaN\n",
      "2019-08-10  0.880325       NaN       NaN  0.183929       NaN\n",
      "   Age   Names Qualification\n",
      "0   22  Khizar          BSCS\n"
     ]
    }
   ],
   "source": [
    "# syntax\n",
    "#df[condition]\n",
    "print(df[df.A > 0])\n",
    "print(df[df.B < 0])\n",
    "print(df[df > 0]) #same\n",
    "print(df[~(df<0)]) #same, negation\n",
    "\n",
    "# Pandas isin() method is used to filter data frames. \n",
    "# isin() method helps in selecting rows with having a particular(or Multiple) value in a particular column.\n",
    "\n",
    "# return true or false\n",
    "status = df2['Age'].isin(['22']) # is the age column have value 22 \n",
    "print(df2[status])\n",
    "\n",
    "# Syntax: \n",
    "# DataFrame.where(cond, other=nan, inplace=False, axis=None, level=None, errors=’raise’, try_cast=False, raise_on_error=None)\n",
    "\n",
    "data = pd.read_csv(\"csvs/nba.csv\") \n",
    "  \n",
    "# sorting dataframe \n",
    "data.sort_values(\"Team\", inplace = True) \n",
    "  \n",
    "# making boolean series for a team name \n",
    "filter1 = data[\"Team\"]==\"Atlanta Hawks\"\n",
    "  \n",
    "# making boolean series for age \n",
    "filter2 = data[\"Age\"]>24\n",
    "  \n",
    "# filtering data on basis of both filters \n",
    "#data.where(filter1 & filter2, inplace= True) \n",
    "#print(data)\n"
   ]
  },
  {
   "cell_type": "markdown",
   "metadata": {
    "collapsed": true
   },
   "source": [
    "# Practice 01, DataFrame Basics"
   ]
  },
  {
   "cell_type": "code",
   "execution_count": null,
   "metadata": {
    "collapsed": true
   },
   "outputs": [],
   "source": [
    "df = pd.read_csv('csvs/weather_data.csv')\n",
    "rows,cols = df.shape\n",
    "df.head(2)\n",
    "df.tail(2)\n",
    "df.columns\n",
    "df.day\n",
    "df.day.min()\n",
    "type(df.day) # series\n",
    "#print(df)\n",
    "# maximum temperature\n",
    "print(df.temperature.max())\n",
    "print(df.temperature.mean())\n",
    "# find the dates when event is sunny\n",
    "df['day'][df['event']=='Sunny']\n",
    "df.describe()\n",
    "df.info()\n",
    "df.isnull().sum()\n",
    "df.windspeed.mean()\n",
    "\n",
    "# find the event on the temperature greater than 32\n",
    "print(df[['event','day']][df.temperature > 30])\n",
    "\n",
    "# find the all data on maximum temperature\n",
    "df[df.temperature == df.temperature.max()]\n",
    "\n",
    "df.index\n",
    "df.set_index(df.event,inplace=True) # change the index\n",
    "df"
   ]
  },
  {
   "cell_type": "markdown",
   "metadata": {},
   "source": [
    "# Practice 2, Cleaning and Writing CSV's"
   ]
  },
  {
   "cell_type": "code",
   "execution_count": null,
   "metadata": {
    "collapsed": true
   },
   "outputs": [],
   "source": [
    "from scipy import stats\n",
    "df4 = pd.read_csv('csvs/stock_data.csv')\n",
    "print(df4)\n",
    "\n",
    "# cleaning data in every columns\n",
    "df5 = pd.read_csv('csvs/stock_data.csv', na_values = {\n",
    "    'eps' : [\"not available\",\"n.a.\"], # replace \"not replace\" and \"n.a.\" with NaN in eps\n",
    "    'revenue':[\"-1\"], \n",
    "    'price':[\"not available\",\"n.a.\"],\n",
    "    'people':[\"not available\",\"n.a.\"]\n",
    "})\n",
    "df5\n",
    "# Now save this clean file into new csv file\n",
    "df5.to_csv('csvs/stock_clean_data.csv', index = False) # generate the csv file\n",
    "df6 = pd.read_csv('csvs/stock_clean_data.csv')\n",
    "df6\n",
    "\n",
    "\n",
    "df7 = pd.read_csv('csvs/weather_data_miss.csv')\n",
    "df7\n",
    "\n",
    "# HANDLE MISSING VALUES\n",
    "\n",
    "#1) replace all garbage with np.Nan\n",
    "#  to do so, use  df.replace({column1:value,column2:value},np.Nan)\n",
    "#2) now filled Nan with mean,median and mode of the column using:\n",
    "#df.fillna({column1:value,column2:value})\n",
    "#df.fillna(method=\"ffill\") # farward fill method\n",
    "#df.fillna(method=\"bfill\") # backward fill method\n",
    "\n",
    "#m = stats.mode(df.event)\n",
    "#print(np.mean(df7.temperature))\n",
    "n = df7.fillna({\n",
    "    'temperature':np.mean(df.temperature), # filling with mean\n",
    "    'windspeed':np.median(df.windspeed), # filling with median\n",
    "    #'event':m[0] # filling with mode\n",
    "})\n",
    "n\n",
    "new = df7.dropna(how=\"all\") # delete if all values are Nan in a row \n",
    "new\n",
    "new2 = df7.dropna() # delete the rows of NaN values\n",
    "new2\n",
    "\n",
    "# df.replace({column1:value,column2:value},np.Nan)\n",
    "df8 = pd.read_csv('csvs/weather_data.csv')\n",
    "df8= df8.replace({\n",
    "    'temperature':['/','?','.','*','rd',-99999],\n",
    "    'windspeed':['/','?','.','*','rd',-99999],\n",
    "    'event':'0',\n",
    "},np.NaN, regex = True)\n",
    "df8"
   ]
  },
  {
   "cell_type": "markdown",
   "metadata": {},
   "source": [
    "# GroupBy,Apply, value_counts, Multi Indexing\n",
    "group by is used when we want to split the dataset into groups like \"in each city\",\"Per city\" like these questions"
   ]
  },
  {
   "cell_type": "code",
   "execution_count": 202,
   "metadata": {},
   "outputs": [
    {
     "name": "stdout",
     "output_type": "stream",
     "text": [
      "         day      city  temperature  windspeed   event\n",
      "0   1/1/2017  new york           32          6    Rain\n",
      "1   1/2/2017  new york           36          7   Sunny\n",
      "2   1/3/2017  new york           28         12    Snow\n",
      "3   1/4/2017  new york           33          7   Sunny\n",
      "4   1/1/2017    mumbai           90          5   Sunny\n",
      "5   1/2/2017    mumbai           85         12     Fog\n",
      "6   1/3/2017    mumbai           87         15     Fog\n",
      "7   1/4/2017    mumbai           92          5    Rain\n",
      "8   1/1/2017     paris           45         20   Sunny\n",
      "9   1/2/2017     paris           50         13  Cloudy\n",
      "10  1/3/2017     paris           54          8  Cloudy\n",
      "11  1/4/2017     paris           42         10  Cloudy\n",
      "city      event \n",
      "mumbai    Fog       86.000000\n",
      "          Rain      92.000000\n",
      "          Sunny     90.000000\n",
      "new york  Rain      32.000000\n",
      "          Snow      28.000000\n",
      "          Sunny     34.500000\n",
      "paris     Cloudy    48.666667\n",
      "          Sunny     45.000000\n",
      "Name: temperature, dtype: float64\n",
      "event        Cloudy   Fog  Rain  Snow  Sunny\n",
      "city                                        \n",
      "mumbai          NaN  86.0  92.0   NaN   90.0\n",
      "new york        NaN   NaN  32.0  28.0   34.5\n",
      "paris     48.666667   NaN   NaN   NaN   45.0\n",
      "12    2\n",
      "7     2\n",
      "5     2\n",
      "15    1\n",
      "13    1\n",
      "10    1\n",
      "8     1\n",
      "6     1\n",
      "20    1\n",
      "Name: windspeed, dtype: int64\n"
     ]
    }
   ],
   "source": [
    "g = pd.read_csv(\"csvs/weather_by_cities.csv\")\n",
    "print(g)\n",
    "obj = g.groupby('city') # it will return a obj dictionary, city will be key and data will be value\n",
    "# for city,city_group in obj:\n",
    "#     print(city)\n",
    "#     print(city_group)\n",
    "mul_series = g.groupby(['city','event']).temperature.mean() # multi_ indexing\n",
    "print(mul_series)\n",
    "print(mul_series.unstack()) # finish multi indexing\n",
    "obj.max()\n",
    "obj.mean()\n",
    "obj.describe()\n",
    "\n",
    "counts = g.windspeed.value_counts()\n",
    "print(counts)\n",
    "# apply function is used to apply specific function on the columns of DataFrames\n",
    "\n",
    "n=g.windspeed.apply(lambda x:x+5)\n",
    "#n"
   ]
  },
  {
   "cell_type": "markdown",
   "metadata": {},
   "source": [
    "# pandas concat, merge, Apply\n",
    "it is used to append the second df into first df and vice versa, both should have same names of columns\n"
   ]
  },
  {
   "cell_type": "code",
   "execution_count": 64,
   "metadata": {},
   "outputs": [
    {
     "data": {
      "text/html": [
       "<div>\n",
       "<style>\n",
       "    .dataframe thead tr:only-child th {\n",
       "        text-align: right;\n",
       "    }\n",
       "\n",
       "    .dataframe thead th {\n",
       "        text-align: left;\n",
       "    }\n",
       "\n",
       "    .dataframe tbody tr th {\n",
       "        vertical-align: top;\n",
       "    }\n",
       "</style>\n",
       "<table border=\"1\" class=\"dataframe\">\n",
       "  <thead>\n",
       "    <tr style=\"text-align: right;\">\n",
       "      <th></th>\n",
       "      <th>city</th>\n",
       "      <th>temperature</th>\n",
       "      <th>humidity</th>\n",
       "      <th>_merge</th>\n",
       "    </tr>\n",
       "  </thead>\n",
       "  <tbody>\n",
       "    <tr>\n",
       "      <th>0</th>\n",
       "      <td>chicago</td>\n",
       "      <td>21.0</td>\n",
       "      <td>65</td>\n",
       "      <td>both</td>\n",
       "    </tr>\n",
       "    <tr>\n",
       "      <th>1</th>\n",
       "      <td>Newyork</td>\n",
       "      <td>14.0</td>\n",
       "      <td>68</td>\n",
       "      <td>both</td>\n",
       "    </tr>\n",
       "    <tr>\n",
       "      <th>2</th>\n",
       "      <td>banglore</td>\n",
       "      <td>15.0</td>\n",
       "      <td>80</td>\n",
       "      <td>both</td>\n",
       "    </tr>\n",
       "    <tr>\n",
       "      <th>3</th>\n",
       "      <td>orlando</td>\n",
       "      <td>NaN</td>\n",
       "      <td>75</td>\n",
       "      <td>right_only</td>\n",
       "    </tr>\n",
       "  </tbody>\n",
       "</table>\n",
       "</div>"
      ],
      "text/plain": [
       "       city  temperature  humidity      _merge\n",
       "0   chicago         21.0        65        both\n",
       "1   Newyork         14.0        68        both\n",
       "2  banglore         15.0        80        both\n",
       "3   orlando          NaN        75  right_only"
      ]
     },
     "execution_count": 64,
     "metadata": {},
     "output_type": "execute_result"
    }
   ],
   "source": [
    "# Concatenation\n",
    "\n",
    "india_weather = {\n",
    "    'city':[\"mumbai\",\"delhi\",\"banglore\"],\n",
    "    'temperature':[32,45,30],\n",
    "    'humidity':[80,60,78]\n",
    "}\n",
    "india_weather = pd.DataFrame(india_weather,index = [0,1,2])\n",
    "india_weather\n",
    "us_weather = pd.DataFrame({\n",
    "    'city':['Newyork','chicago','orlando'],\n",
    "    'temperature':[21,14,15],\n",
    "    'humidity':[68,65,75]\n",
    "},index = [0,1,2])\n",
    "us_weather\n",
    "# pd.concat([df1,df2,df3], ignore_index = True, )\n",
    "df9 = pd.concat([india_weather,us_weather],ignore_index = True) #keys = [\"india\",\"usa\"] )\n",
    "df9\n",
    "# series works like an column\n",
    "e = pd.Series([\"humid\",\"Dry\",\"Raining\",\"Raining\",\"Dry\",\"humid\"],name = \"event\")\n",
    "df9 = pd.concat([df9,e], axis= 1)\n",
    "df9\n",
    "\n",
    "\n",
    "# Merging, intersection or union of two tables\n",
    "# it is just like the join of sql\n",
    "# used to combine rows from two or more tables, based on a related column between them\n",
    "# column names and values should be same. \n",
    "# df.merge(df1,df2,on='columnName')\n",
    "d1 = pd.DataFrame({\n",
    "     'city':[\"chicago\",\"Newyork\",\"banglore\"],\n",
    "     'temperature':[21,14,15],\n",
    "})\n",
    "d2 = pd.DataFrame({\n",
    "    'city':['Newyork','chicago','orlando',\"banglore\"],\n",
    "    'humidity':[68,65,75,80]\n",
    "})\n",
    "# how  = \"inner\" is by default\n",
    "m = pd.merge(d1,d2,on='city',how = \"outer\", indicator = True)\n",
    "m"
   ]
  },
  {
   "cell_type": "markdown",
   "metadata": {},
   "source": [
    "# Pivot and pivot table \n",
    "Reshape data for slicing and dicing (produce a “pivot” table) based on column values. Uses unique values from specified index / columns to form axes of the resulting DataFrame. This function does not support data aggregation, multiple values will result in a MultiIndex in the columns\n",
    "## pivot: \n",
    "    for slicing data and dicing data\n",
    "## pivot table:\n",
    "    for aggregating and summarize data inside dataframe\n",
    "    Data aggregation is any process in which information is gathered and expressed in a summary form"
   ]
  },
  {
   "cell_type": "code",
   "execution_count": 103,
   "metadata": {},
   "outputs": [
    {
     "name": "stdout",
     "output_type": "stream",
     "text": [
      "       date      city  temperature  humidity\n",
      "0  5/1/2017  new york           65        56\n",
      "1  5/2/2017  new york           66        58\n",
      "2  5/3/2017  new york           68        60\n",
      "3  5/1/2017    mumbai           75        80\n",
      "4  5/2/2017    mumbai           78        83\n",
      "5  5/3/2017    mumbai           82        85\n",
      "6  5/1/2017   beijing           80        26\n",
      "7  5/2/2017   beijing           77        30\n",
      "8  5/3/2017   beijing           79        35\n",
      "city      beijing  mumbai  new york\n",
      "date                               \n",
      "5/1/2017       80      75        65\n",
      "5/2/2017       77      78        66\n",
      "5/3/2017       79      82        68\n",
      "         humidity                        temperature                       \n",
      "city      beijing mumbai new york    All     beijing mumbai new york    All\n",
      "date                                                                       \n",
      "5/1/2017     26.0   80.0     56.0  162.0        80.0   75.0     65.0  220.0\n",
      "5/2/2017     30.0   83.0     58.0  171.0        77.0   78.0     66.0  221.0\n",
      "5/3/2017     35.0   85.0     60.0  180.0        79.0   82.0     68.0  229.0\n",
      "All          91.0  248.0    174.0  513.0       236.0  235.0    199.0  670.0\n"
     ]
    }
   ],
   "source": [
    "w = pd.read_csv('csvs/weather.csv')\n",
    "print(w)\n",
    "# index = 'columnName' row wise\n",
    "# column = 'columnName' column wise\n",
    "# values = 'Values in the cell'\n",
    "f1 = w.pivot(index='date',columns = 'city',values = \"temperature\")\n",
    "print(f1)\n",
    "\n",
    "#pivot_table is use summarize the data in slicing and dicing  \n",
    "f2 = w.pivot_table(index = \"date\",columns = 'city',aggfunc = np.sum,margins = True)\n",
    "print(f2)\n",
    "\n"
   ]
  },
  {
   "cell_type": "markdown",
   "metadata": {
    "collapsed": true
   },
   "source": [
    "# Data Visualization using Pandas\n",
    "* line Graph\n",
    "* bar Graph\n",
    "* Box graph\n",
    "* Area Graph\n",
    "* Scatter Graph\n",
    "* histogram\n",
    "* pie chart\n",
    "* kde chart\n",
    "* hexbin\n",
    "* df.plot(kind = 'line')"
   ]
  },
  {
   "cell_type": "code",
   "execution_count": 107,
   "metadata": {
    "collapsed": true
   },
   "outputs": [],
   "source": [
    "import matplotlib.pyplot as plt\n",
    "import pandas as pd\n",
    "import numpy as np\n",
    "%matplotlib inline"
   ]
  },
  {
   "cell_type": "code",
   "execution_count": 178,
   "metadata": {},
   "outputs": [
    {
     "name": "stdout",
     "output_type": "stream",
     "text": [
      "         day      city  temperature  windspeed   event\n",
      "0   1/1/2017  new york           32          6    Rain\n",
      "1   1/2/2017  new york           36          7   Sunny\n",
      "2   1/3/2017  new york           28         12    Snow\n",
      "3   1/4/2017  new york           33          7   Sunny\n",
      "4   1/1/2017    mumbai           90          5   Sunny\n",
      "5   1/2/2017    mumbai           85         12     Fog\n",
      "6   1/3/2017    mumbai           87         15     Fog\n",
      "7   1/4/2017    mumbai           92          5    Rain\n",
      "8   1/1/2017     paris           45         20   Sunny\n",
      "9   1/2/2017     paris           50         13  Cloudy\n",
      "10  1/3/2017     paris           54          8  Cloudy\n",
      "11  1/4/2017     paris           42         10  Cloudy\n"
     ]
    },
    {
     "data": {
      "text/plain": [
       "<matplotlib.axes._subplots.AxesSubplot at 0x22726866668>"
      ]
     },
     "execution_count": 178,
     "metadata": {},
     "output_type": "execute_result"
    },
    {
     "data": {
      "image/png": "[encoded data removed]",
      "text/plain": [
       "<matplotlib.figure.Figure at 0x22726a1c7f0>"
      ]
     },
     "metadata": {},
     "output_type": "display_data"
    },
    {
     "data": {
      "image/png": "[encoded data removed]",
      "text/plain": [
       "<matplotlib.figure.Figure at 0x22726e18080>"
      ]
     },
     "metadata": {},
     "output_type": "display_data"
    },
    {
     "data": {
      "image/png": "[encoded data removed]",
      "text/plain": [
       "<matplotlib.figure.Figure at 0x22726d09b38>"
      ]
     },
     "metadata": {},
     "output_type": "display_data"
    },
    {
     "data": {
      "image/png": "[encoded data removed]",
      "text/plain": [
       "<matplotlib.figure.Figure at 0x22726ef9630>"
      ]
     },
     "metadata": {},
     "output_type": "display_data"
    },
    {
     "data": {
      "image/png": "[encoded data removed]",
      "text/plain": [
       "<matplotlib.figure.Figure at 0x22727024f98>"
      ]
     },
     "metadata": {},
     "output_type": "display_data"
    },
    {
     "data": {
      "image/png": "[encoded data removed]",
      "text/plain": [
       "<matplotlib.figure.Figure at 0x22726bdba20>"
      ]
     },
     "metadata": {},
     "output_type": "display_data"
    }
   ],
   "source": [
    "df_g = pd.read_csv(\"csvs/weather_by_cities.csv\") \n",
    "print(df_g)\n",
    "df_g = df_g.cumsum() # it is for series\n",
    "plt.figure()\n",
    "# plot function is just plot the graph of \"integer values\"\n",
    "df_g.temperature.plot() # single column plotting\n",
    "df_g.plot() # for all interger columns\n",
    "df_g.plot(kind = 'bar') # same bar graph\n",
    "df_g.plot.bar(stacked = True) # same bar graph\n",
    "df_g.plot(kind = 'hist')\n",
    "df_g.plot.hist(alpha = 0.5, bins=20) # alpha mean opacity, bins are the width of each column"
   ]
  },
  {
   "cell_type": "code",
   "execution_count": 140,
   "metadata": {},
   "outputs": [
    {
     "data": {
      "text/plain": [
       "<matplotlib.axes._subplots.AxesSubplot at 0x2272292e198>"
      ]
     },
     "execution_count": 140,
     "metadata": {},
     "output_type": "execute_result"
    },
    {
     "data": {
      "image/png": "[encoded data removed]",
      "text/plain": [
       "<matplotlib.figure.Figure at 0x22723033b70>"
      ]
     },
     "metadata": {},
     "output_type": "display_data"
    },
    {
     "data": {
      "image/png": "[encoded data removed]",
      "text/plain": [
       "<matplotlib.figure.Figure at 0x22722472ac8>"
      ]
     },
     "metadata": {},
     "output_type": "display_data"
    }
   ],
   "source": [
    "df_g.temperature.plot.hist()\n",
    "df_g.plot.box(sym = \"+r\")"
   ]
  },
  {
   "cell_type": "code",
   "execution_count": 163,
   "metadata": {},
   "outputs": [
    {
     "data": {
      "text/plain": [
       "<matplotlib.axes._subplots.AxesSubplot at 0x227247db358>"
      ]
     },
     "execution_count": 163,
     "metadata": {},
     "output_type": "execute_result"
    },
    {
     "data": {
      "image/png": "[encoded data removed]",
      "text/plain": [
       "<matplotlib.figure.Figure at 0x22724aecc50>"
      ]
     },
     "metadata": {},
     "output_type": "display_data"
    },
    {
     "data": {
      "image/png": "[encoded data removed]",
      "text/plain": [
       "<matplotlib.figure.Figure at 0x227248707f0>"
      ]
     },
     "metadata": {},
     "output_type": "display_data"
    },
    {
     "data": {
      "image/png": "[encoded data removed]",
      "text/plain": [
       "<matplotlib.figure.Figure at 0x227248c0e10>"
      ]
     },
     "metadata": {},
     "output_type": "display_data"
    },
    {
     "data": {
      "image/png": "[encoded data removed]",
      "text/plain": [
       "<matplotlib.figure.Figure at 0x227247b7cf8>"
      ]
     },
     "metadata": {},
     "output_type": "display_data"
    }
   ],
   "source": [
    "df_g.temperature.plot(kind = 'box')\n",
    "df_g.plot(kind = \"area\", stacked = False)\n",
    "df_g.plot.scatter(x = 'temperature', y = 'windspeed')\n",
    "df_g.plot.hexbin(x = 'temperature', y = 'windspeed',gridsize=25)"
   ]
  },
  {
   "cell_type": "code",
   "execution_count": 150,
   "metadata": {},
   "outputs": [
    {
     "data": {
      "image/png": "[encoded data removed]",
      "text/plain": [
       "<matplotlib.figure.Figure at 0x22722144390>"
      ]
     },
     "metadata": {},
     "output_type": "display_data"
    },
    {
     "data": {
      "image/png": "[encoded data removed]",
      "text/plain": [
       "<matplotlib.figure.Figure at 0x227221441d0>"
      ]
     },
     "metadata": {},
     "output_type": "display_data"
    }
   ],
   "source": [
    "df = pd.DataFrame(np.random.rand(50, 4), columns=['a', 'b', 'c', 'd'])\n",
    "df.plot.scatter(x='a', y='b');\n",
    "ax = df.plot.scatter(x='a', y='b', color='DarkBlue', label='Group 1');\n",
    "df.plot.scatter(x='c', y='d', color='DarkGreen', label='Group 2', ax=ax);"
   ]
  },
  {
   "cell_type": "code",
   "execution_count": 185,
   "metadata": {},
   "outputs": [
    {
     "data": {
      "text/plain": [
       "<matplotlib.axes._subplots.AxesSubplot at 0x227273133c8>"
      ]
     },
     "execution_count": 185,
     "metadata": {},
     "output_type": "execute_result"
    },
    {
     "data": {
      "image/png": "[encoded data removed]",
      "text/plain": [
       "<matplotlib.figure.Figure at 0x227274f20b8>"
      ]
     },
     "metadata": {},
     "output_type": "display_data"
    },
    {
     "data": {
      "image/png": "[encoded data removed]",
      "text/plain": [
       "<matplotlib.figure.Figure at 0x227274f22e8>"
      ]
     },
     "metadata": {},
     "output_type": "display_data"
    }
   ],
   "source": [
    "# In statistics, kernel density estimation (KDE) is a non-parametric way to estimate the \n",
    "# probability density function (PDF) of a random variable\n",
    "\n",
    "df_g.temperature.plot.pie(subplots = True,figsize=(6, 6))\n",
    "df_g.plot.kde()"
   ]
  },
  {
   "cell_type": "code",
   "execution_count": 186,
   "metadata": {
    "collapsed": true
   },
   "outputs": [],
   "source": [
    "outer = 'R1 R1 R1 R2 R2 R2'.split()\n",
    "inner = [1,2,3,1,2,3]\n",
    "hier = list(zip(outer,inner))"
   ]
  },
  {
   "cell_type": "code",
   "execution_count": 187,
   "metadata": {},
   "outputs": [
    {
     "data": {
      "text/plain": [
       "[('R1', 1), ('R1', 2), ('R1', 3), ('R2', 1), ('R2', 2), ('R2', 3)]"
      ]
     },
     "execution_count": 187,
     "metadata": {},
     "output_type": "execute_result"
    }
   ],
   "source": [
    "hier"
   ]
  },
  {
   "cell_type": "code",
   "execution_count": 188,
   "metadata": {
    "collapsed": true
   },
   "outputs": [],
   "source": [
    "import pandas as pd\n",
    "import numpy as np"
   ]
  },
  {
   "cell_type": "code",
   "execution_count": 189,
   "metadata": {
    "collapsed": true
   },
   "outputs": [],
   "source": [
    "hier_index = pd.MultiIndex.from_tuples(hier)"
   ]
  },
  {
   "cell_type": "code",
   "execution_count": 190,
   "metadata": {},
   "outputs": [
    {
     "data": {
      "text/plain": [
       "MultiIndex(levels=[['R1', 'R2'], [1, 2, 3]],\n",
       "           labels=[[0, 0, 0, 1, 1, 1], [0, 1, 2, 0, 1, 2]])"
      ]
     },
     "execution_count": 190,
     "metadata": {},
     "output_type": "execute_result"
    }
   ],
   "source": [
    "hier_index"
   ]
  },
  {
   "cell_type": "code",
   "execution_count": 191,
   "metadata": {
    "collapsed": true
   },
   "outputs": [],
   "source": [
    "df = pd.DataFrame(np.random.randn(6,2), index = hier_index, columns = 'A B'.split())"
   ]
  },
  {
   "cell_type": "code",
   "execution_count": 192,
   "metadata": {},
   "outputs": [
    {
     "data": {
      "text/html": [
       "<div>\n",
       "<style>\n",
       "    .dataframe thead tr:only-child th {\n",
       "        text-align: right;\n",
       "    }\n",
       "\n",
       "    .dataframe thead th {\n",
       "        text-align: left;\n",
       "    }\n",
       "\n",
       "    .dataframe tbody tr th {\n",
       "        vertical-align: top;\n",
       "    }\n",
       "</style>\n",
       "<table border=\"1\" class=\"dataframe\">\n",
       "  <thead>\n",
       "    <tr style=\"text-align: right;\">\n",
       "      <th></th>\n",
       "      <th></th>\n",
       "      <th>A</th>\n",
       "      <th>B</th>\n",
       "    </tr>\n",
       "  </thead>\n",
       "  <tbody>\n",
       "    <tr>\n",
       "      <th rowspan=\"3\" valign=\"top\">R1</th>\n",
       "      <th>1</th>\n",
       "      <td>0.751302</td>\n",
       "      <td>-0.540545</td>\n",
       "    </tr>\n",
       "    <tr>\n",
       "      <th>2</th>\n",
       "      <td>-0.854748</td>\n",
       "      <td>-1.646268</td>\n",
       "    </tr>\n",
       "    <tr>\n",
       "      <th>3</th>\n",
       "      <td>0.359687</td>\n",
       "      <td>0.103160</td>\n",
       "    </tr>\n",
       "    <tr>\n",
       "      <th rowspan=\"2\" valign=\"top\">R2</th>\n",
       "      <th>1</th>\n",
       "      <td>-0.060786</td>\n",
       "      <td>-1.121016</td>\n",
       "    </tr>\n",
       "    <tr>\n",
       "      <th>2</th>\n",
       "      <td>-0.710247</td>\n",
       "      <td>-0.623877</td>\n",
       "    </tr>\n",
       "  </tbody>\n",
       "</table>\n",
       "</div>"
      ],
      "text/plain": [
       "             A         B\n",
       "R1 1  0.751302 -0.540545\n",
       "   2 -0.854748 -1.646268\n",
       "   3  0.359687  0.103160\n",
       "R2 1 -0.060786 -1.121016\n",
       "   2 -0.710247 -0.623877"
      ]
     },
     "execution_count": 192,
     "metadata": {},
     "output_type": "execute_result"
    }
   ],
   "source": [
    "df.head()"
   ]
  },
  {
   "cell_type": "code",
   "execution_count": null,
   "metadata": {
    "collapsed": true
   },
   "outputs": [],
   "source": []
  }
 ],
 "metadata": {
  "kernelspec": {
   "display_name": "Python 3",
   "language": "python",
   "name": "python3"
  },
  "language_info": {
   "codemirror_mode": {
    "name": "ipython",
    "version": 3
   },
   "file_extension": ".py",
   "mimetype": "text/x-python",
   "name": "python",
   "nbconvert_exporter": "python",
   "pygments_lexer": "ipython3",
   "version": "3.7.3"
  }
 },
 "nbformat": 4,
 "nbformat_minor": 2
}
